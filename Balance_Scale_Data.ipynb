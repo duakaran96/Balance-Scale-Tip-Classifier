{
  "nbformat": 4,
  "nbformat_minor": 0,
  "metadata": {
    "colab": {
      "name": "Balance Scale Data.ipynb",
      "version": "0.3.2",
      "provenance": [],
      "include_colab_link": true
    },
    "kernelspec": {
      "name": "python3",
      "display_name": "Python 3"
    }
  },
  "cells": [
    {
      "cell_type": "markdown",
      "metadata": {
        "id": "view-in-github",
        "colab_type": "text"
      },
      "source": [
        "[View in Colaboratory](https://colab.research.google.com/github/duakaran96/Balance-Scale-Tip-Classifier/blob/master/Balance_Scale_Data.ipynb)"
      ]
    },
    {
      "metadata": {
        "id": "N86e43Z8aOE0",
        "colab_type": "text"
      },
      "cell_type": "markdown",
      "source": [
        "# Classify position of Balance Scale\n",
        "\n",
        "The aim of our project is to classify the position of Balance Scale based off the [Balance Scale Data Set](http://archive.ics.uci.edu/ml/datasets/balance+scale)  from [UCI  ML Repository](http://archive.ics.uci.edu/ml/index.php)\n",
        "\n",
        "We will use **Tree** methods under *scikit-learn* for the classification task.\n",
        "\n",
        "## Data Set Information:\n",
        "\n",
        "This data set was generated to model psychological experimental results. Each example is classified as having the balance scale tip to the right, tip to the left, or be balanced. The attributes are the left weight, the left distance, the right weight, and the right distance. The correct way to find the class is the greater of (left-distance \\* left-weight) and (right-distance \\* right-weight). If they are equal, it is balanced.\n",
        "\n",
        "## Attribute information:\n",
        "\n",
        "1. Class Name: 3 (L, B, R)             {' L' : Left, 'B' : Balanced, 'R' : Right}\n",
        "2. Left-Weight: 5 (1, 2, 3, 4, 5) \n",
        "3. Left-Distance: 5 (1, 2, 3, 4, 5) \n",
        "4. Right-Weight: 5 (1, 2, 3, 4, 5) \n",
        "5. Right-Distance: 5 (1, 2, 3, 4, 5)\n",
        "\n"
      ]
    },
    {
      "metadata": {
        "id": "Pti7ttxZgXWC",
        "colab_type": "text"
      },
      "cell_type": "markdown",
      "source": [
        "## Imports"
      ]
    },
    {
      "metadata": {
        "id": "xncs80ZmO6cy",
        "colab_type": "code",
        "colab": {}
      },
      "cell_type": "code",
      "source": [
        "import numpy as np\n",
        "import pandas as pd\n",
        "import matplotlib.pyplot as plt\n",
        "import seaborn as sns\n",
        "%matplotlib inline"
      ],
      "execution_count": 0,
      "outputs": []
    },
    {
      "metadata": {
        "id": "YdNYNj3EgaNq",
        "colab_type": "text"
      },
      "cell_type": "markdown",
      "source": [
        "## Importing the dataset"
      ]
    },
    {
      "metadata": {
        "id": "ftZJbtXUPQS0",
        "colab_type": "code",
        "colab": {}
      },
      "cell_type": "code",
      "source": [
        "df  = pd.read_csv('https://archive.ics.uci.edu/ml/machine-learning-databases/balance-scale/balance-scale.data', header=None, names=['Class Name', 'Left-Weight', 'Left-Distance', 'Right-Weight', 'Right-Distance'])"
      ],
      "execution_count": 0,
      "outputs": []
    },
    {
      "metadata": {
        "id": "fGYYzduJivK9",
        "colab_type": "text"
      },
      "cell_type": "markdown",
      "source": [
        "We'll take a look at the first 5 rows of our dataset by using pandas *head* function"
      ]
    },
    {
      "metadata": {
        "id": "Jc-tgLmyPYBa",
        "colab_type": "code",
        "colab": {
          "base_uri": "https://localhost:8080/",
          "height": 204
        },
        "outputId": "c8132081-427c-4c0f-80da-038f056855f6"
      },
      "cell_type": "code",
      "source": [
        "df.head()"
      ],
      "execution_count": 19,
      "outputs": [
        {
          "output_type": "execute_result",
          "data": {
            "text/html": [
              "<div>\n",
              "<style scoped>\n",
              "    .dataframe tbody tr th:only-of-type {\n",
              "        vertical-align: middle;\n",
              "    }\n",
              "\n",
              "    .dataframe tbody tr th {\n",
              "        vertical-align: top;\n",
              "    }\n",
              "\n",
              "    .dataframe thead th {\n",
              "        text-align: right;\n",
              "    }\n",
              "</style>\n",
              "<table border=\"1\" class=\"dataframe\">\n",
              "  <thead>\n",
              "    <tr style=\"text-align: right;\">\n",
              "      <th></th>\n",
              "      <th>Class Name</th>\n",
              "      <th>Left-Weight</th>\n",
              "      <th>Left-Distance</th>\n",
              "      <th>Right-Weight</th>\n",
              "      <th>Right-Distance</th>\n",
              "    </tr>\n",
              "  </thead>\n",
              "  <tbody>\n",
              "    <tr>\n",
              "      <th>0</th>\n",
              "      <td>B</td>\n",
              "      <td>1</td>\n",
              "      <td>1</td>\n",
              "      <td>1</td>\n",
              "      <td>1</td>\n",
              "    </tr>\n",
              "    <tr>\n",
              "      <th>1</th>\n",
              "      <td>R</td>\n",
              "      <td>1</td>\n",
              "      <td>1</td>\n",
              "      <td>1</td>\n",
              "      <td>2</td>\n",
              "    </tr>\n",
              "    <tr>\n",
              "      <th>2</th>\n",
              "      <td>R</td>\n",
              "      <td>1</td>\n",
              "      <td>1</td>\n",
              "      <td>1</td>\n",
              "      <td>3</td>\n",
              "    </tr>\n",
              "    <tr>\n",
              "      <th>3</th>\n",
              "      <td>R</td>\n",
              "      <td>1</td>\n",
              "      <td>1</td>\n",
              "      <td>1</td>\n",
              "      <td>4</td>\n",
              "    </tr>\n",
              "    <tr>\n",
              "      <th>4</th>\n",
              "      <td>R</td>\n",
              "      <td>1</td>\n",
              "      <td>1</td>\n",
              "      <td>1</td>\n",
              "      <td>5</td>\n",
              "    </tr>\n",
              "  </tbody>\n",
              "</table>\n",
              "</div>"
            ],
            "text/plain": [
              "  Class Name  Left-Weight  Left-Distance  Right-Weight  Right-Distance\n",
              "0          B            1              1             1               1\n",
              "1          R            1              1             1               2\n",
              "2          R            1              1             1               3\n",
              "3          R            1              1             1               4\n",
              "4          R            1              1             1               5"
            ]
          },
          "metadata": {
            "tags": []
          },
          "execution_count": 19
        }
      ]
    },
    {
      "metadata": {
        "id": "7Dkd6jFoXaEu",
        "colab_type": "code",
        "colab": {
          "base_uri": "https://localhost:8080/",
          "height": 51
        },
        "outputId": "bb867049-312c-4f94-8d2c-b92b329700b4"
      },
      "cell_type": "code",
      "source": [
        "print('Shape of our dataset')\n",
        "df.shape"
      ],
      "execution_count": 57,
      "outputs": [
        {
          "output_type": "stream",
          "text": [
            "Shape of our dataset\n"
          ],
          "name": "stdout"
        },
        {
          "output_type": "execute_result",
          "data": {
            "text/plain": [
              "(625, 5)"
            ]
          },
          "metadata": {
            "tags": []
          },
          "execution_count": 57
        }
      ]
    },
    {
      "metadata": {
        "id": "88T5Edw6XcJH",
        "colab_type": "code",
        "colab": {
          "base_uri": "https://localhost:8080/",
          "height": 51
        },
        "outputId": "27180566-16d3-436e-c510-ebd3212e1dae"
      },
      "cell_type": "code",
      "source": [
        "print('Size of our dataset')\n",
        "df.size"
      ],
      "execution_count": 58,
      "outputs": [
        {
          "output_type": "stream",
          "text": [
            "Size of our dataset\n"
          ],
          "name": "stdout"
        },
        {
          "output_type": "execute_result",
          "data": {
            "text/plain": [
              "3125"
            ]
          },
          "metadata": {
            "tags": []
          },
          "execution_count": 58
        }
      ]
    },
    {
      "metadata": {
        "id": "WVzmFinTPYza",
        "colab_type": "code",
        "colab": {
          "base_uri": "https://localhost:8080/",
          "height": 204
        },
        "outputId": "7fdc4b93-1df8-4df0-ba6c-cb324f7f5279"
      },
      "cell_type": "code",
      "source": [
        "print('Here\\'s the information about our DataFrame including the index dtype and column dtypes, non-null values and memory usage')\n",
        "df.info()"
      ],
      "execution_count": 77,
      "outputs": [
        {
          "output_type": "stream",
          "text": [
            "Here's the information about our DataFrame including the index dtype and column dtypes, non-null values and memory usage\n",
            "<class 'pandas.core.frame.DataFrame'>\n",
            "RangeIndex: 625 entries, 0 to 624\n",
            "Data columns (total 5 columns):\n",
            "Class Name        625 non-null object\n",
            "Left-Weight       625 non-null int64\n",
            "Left-Distance     625 non-null int64\n",
            "Right-Weight      625 non-null int64\n",
            "Right-Distance    625 non-null int64\n",
            "dtypes: int64(4), object(1)\n",
            "memory usage: 24.5+ KB\n"
          ],
          "name": "stdout"
        }
      ]
    },
    {
      "metadata": {
        "id": "wLsF04zBRE30",
        "colab_type": "code",
        "colab": {
          "base_uri": "https://localhost:8080/",
          "height": 407
        },
        "outputId": "3f322d92-24f6-45e7-ccac-2908fa75455d"
      },
      "cell_type": "code",
      "source": [
        "print('Statistical description of our dataset')\n",
        "df.describe(include='all')"
      ],
      "execution_count": 60,
      "outputs": [
        {
          "output_type": "stream",
          "text": [
            "Statistical description of our dataset\n"
          ],
          "name": "stdout"
        },
        {
          "output_type": "execute_result",
          "data": {
            "text/html": [
              "<div>\n",
              "<style scoped>\n",
              "    .dataframe tbody tr th:only-of-type {\n",
              "        vertical-align: middle;\n",
              "    }\n",
              "\n",
              "    .dataframe tbody tr th {\n",
              "        vertical-align: top;\n",
              "    }\n",
              "\n",
              "    .dataframe thead th {\n",
              "        text-align: right;\n",
              "    }\n",
              "</style>\n",
              "<table border=\"1\" class=\"dataframe\">\n",
              "  <thead>\n",
              "    <tr style=\"text-align: right;\">\n",
              "      <th></th>\n",
              "      <th>Class Name</th>\n",
              "      <th>Left-Weight</th>\n",
              "      <th>Left-Distance</th>\n",
              "      <th>Right-Weight</th>\n",
              "      <th>Right-Distance</th>\n",
              "    </tr>\n",
              "  </thead>\n",
              "  <tbody>\n",
              "    <tr>\n",
              "      <th>count</th>\n",
              "      <td>625</td>\n",
              "      <td>625.000000</td>\n",
              "      <td>625.000000</td>\n",
              "      <td>625.000000</td>\n",
              "      <td>625.000000</td>\n",
              "    </tr>\n",
              "    <tr>\n",
              "      <th>unique</th>\n",
              "      <td>3</td>\n",
              "      <td>NaN</td>\n",
              "      <td>NaN</td>\n",
              "      <td>NaN</td>\n",
              "      <td>NaN</td>\n",
              "    </tr>\n",
              "    <tr>\n",
              "      <th>top</th>\n",
              "      <td>L</td>\n",
              "      <td>NaN</td>\n",
              "      <td>NaN</td>\n",
              "      <td>NaN</td>\n",
              "      <td>NaN</td>\n",
              "    </tr>\n",
              "    <tr>\n",
              "      <th>freq</th>\n",
              "      <td>288</td>\n",
              "      <td>NaN</td>\n",
              "      <td>NaN</td>\n",
              "      <td>NaN</td>\n",
              "      <td>NaN</td>\n",
              "    </tr>\n",
              "    <tr>\n",
              "      <th>mean</th>\n",
              "      <td>NaN</td>\n",
              "      <td>3.000000</td>\n",
              "      <td>3.000000</td>\n",
              "      <td>3.000000</td>\n",
              "      <td>3.000000</td>\n",
              "    </tr>\n",
              "    <tr>\n",
              "      <th>std</th>\n",
              "      <td>NaN</td>\n",
              "      <td>1.415346</td>\n",
              "      <td>1.415346</td>\n",
              "      <td>1.415346</td>\n",
              "      <td>1.415346</td>\n",
              "    </tr>\n",
              "    <tr>\n",
              "      <th>min</th>\n",
              "      <td>NaN</td>\n",
              "      <td>1.000000</td>\n",
              "      <td>1.000000</td>\n",
              "      <td>1.000000</td>\n",
              "      <td>1.000000</td>\n",
              "    </tr>\n",
              "    <tr>\n",
              "      <th>25%</th>\n",
              "      <td>NaN</td>\n",
              "      <td>2.000000</td>\n",
              "      <td>2.000000</td>\n",
              "      <td>2.000000</td>\n",
              "      <td>2.000000</td>\n",
              "    </tr>\n",
              "    <tr>\n",
              "      <th>50%</th>\n",
              "      <td>NaN</td>\n",
              "      <td>3.000000</td>\n",
              "      <td>3.000000</td>\n",
              "      <td>3.000000</td>\n",
              "      <td>3.000000</td>\n",
              "    </tr>\n",
              "    <tr>\n",
              "      <th>75%</th>\n",
              "      <td>NaN</td>\n",
              "      <td>4.000000</td>\n",
              "      <td>4.000000</td>\n",
              "      <td>4.000000</td>\n",
              "      <td>4.000000</td>\n",
              "    </tr>\n",
              "    <tr>\n",
              "      <th>max</th>\n",
              "      <td>NaN</td>\n",
              "      <td>5.000000</td>\n",
              "      <td>5.000000</td>\n",
              "      <td>5.000000</td>\n",
              "      <td>5.000000</td>\n",
              "    </tr>\n",
              "  </tbody>\n",
              "</table>\n",
              "</div>"
            ],
            "text/plain": [
              "       Class Name  Left-Weight  Left-Distance  Right-Weight  Right-Distance\n",
              "count         625   625.000000     625.000000    625.000000      625.000000\n",
              "unique          3          NaN            NaN           NaN             NaN\n",
              "top             L          NaN            NaN           NaN             NaN\n",
              "freq          288          NaN            NaN           NaN             NaN\n",
              "mean          NaN     3.000000       3.000000      3.000000        3.000000\n",
              "std           NaN     1.415346       1.415346      1.415346        1.415346\n",
              "min           NaN     1.000000       1.000000      1.000000        1.000000\n",
              "25%           NaN     2.000000       2.000000      2.000000        2.000000\n",
              "50%           NaN     3.000000       3.000000      3.000000        3.000000\n",
              "75%           NaN     4.000000       4.000000      4.000000        4.000000\n",
              "max           NaN     5.000000       5.000000      5.000000        5.000000"
            ]
          },
          "metadata": {
            "tags": []
          },
          "execution_count": 60
        }
      ]
    },
    {
      "metadata": {
        "id": "ugm-dONnjym3",
        "colab_type": "text"
      },
      "cell_type": "markdown",
      "source": [
        "Below we have plotted a **countplot** of different positions our balance-scale is in:"
      ]
    },
    {
      "metadata": {
        "id": "_QpSl1dKRHbg",
        "colab_type": "code",
        "colab": {
          "base_uri": "https://localhost:8080/",
          "height": 333
        },
        "outputId": "9e314fb9-dc19-4e7b-9a1b-9fc95fa6ccea"
      },
      "cell_type": "code",
      "source": [
        "sns.countplot(df['Class Name'])"
      ],
      "execution_count": 14,
      "outputs": [
        {
          "output_type": "stream",
          "text": [
            "/usr/local/lib/python3.6/dist-packages/seaborn/categorical.py:1428: FutureWarning: remove_na is deprecated and is a private function. Do not use.\n",
            "  stat_data = remove_na(group_data)\n"
          ],
          "name": "stderr"
        },
        {
          "output_type": "execute_result",
          "data": {
            "text/plain": [
              "<matplotlib.axes._subplots.AxesSubplot at 0x7f99d194c7b8>"
            ]
          },
          "metadata": {
            "tags": []
          },
          "execution_count": 14
        },
        {
          "output_type": "display_data",
          "data": {
            "image/png": "[encoded data removed]",
            "text/plain": [
              "<matplotlib.figure.Figure at 0x7f99d1e87080>"
            ]
          },
          "metadata": {
            "tags": []
          }
        }
      ]
    },
    {
      "metadata": {
        "id": "XRj2WlgHj8Dr",
        "colab_type": "text"
      },
      "cell_type": "markdown",
      "source": [
        "We see here that most of the times either the scale is in *left* or *right* state. Very few cases are there in which the scale is *balanced.*"
      ]
    },
    {
      "metadata": {
        "id": "XjPzeS7-kSFu",
        "colab_type": "text"
      },
      "cell_type": "markdown",
      "source": [
        "We'll separate the features and target from our dataset into X and y.\n",
        "\n",
        "X contains all of the features \n",
        "\n",
        "y contains the target"
      ]
    },
    {
      "metadata": {
        "id": "9lb3D8qBRYEr",
        "colab_type": "code",
        "colab": {}
      },
      "cell_type": "code",
      "source": [
        "X = df.drop(['Class Name'], axis=1)"
      ],
      "execution_count": 0,
      "outputs": []
    },
    {
      "metadata": {
        "id": "mXX-zcGNW0E9",
        "colab_type": "code",
        "colab": {}
      },
      "cell_type": "code",
      "source": [
        "y = df['Class Name']"
      ],
      "execution_count": 0,
      "outputs": []
    },
    {
      "metadata": {
        "id": "wgbcv0cbW4uX",
        "colab_type": "code",
        "colab": {
          "base_uri": "https://localhost:8080/",
          "height": 51
        },
        "outputId": "1873f88c-1514-4ec5-ca22-e0f8e152936b"
      },
      "cell_type": "code",
      "source": [
        "print(X.shape)\n",
        "print(y.shape)"
      ],
      "execution_count": 24,
      "outputs": [
        {
          "output_type": "stream",
          "text": [
            "(625, 4)\n",
            "(625,)\n"
          ],
          "name": "stdout"
        }
      ]
    },
    {
      "metadata": {
        "id": "JDsanodFlHRK",
        "colab_type": "text"
      },
      "cell_type": "markdown",
      "source": [
        "## Train Test Split\n",
        "\n",
        "Splitting the data in training set which our model will be trained on, and testing set that our model will be tested on by making predictions."
      ]
    },
    {
      "metadata": {
        "id": "xDMjEbZlXRwt",
        "colab_type": "code",
        "colab": {}
      },
      "cell_type": "code",
      "source": [
        "from sklearn.model_selection import train_test_split"
      ],
      "execution_count": 0,
      "outputs": []
    },
    {
      "metadata": {
        "id": "m9YlVkmzXlVR",
        "colab_type": "code",
        "colab": {}
      },
      "cell_type": "code",
      "source": [
        "X_train, X_test, y_train, y_test = train_test_split(X, y, test_size=0.40, random_state=101)"
      ],
      "execution_count": 0,
      "outputs": []
    },
    {
      "metadata": {
        "id": "fw-1hUNtXvAP",
        "colab_type": "code",
        "colab": {
          "base_uri": "https://localhost:8080/",
          "height": 51
        },
        "outputId": "5cdb3a83-c61d-459b-f005-6b90174c778f"
      },
      "cell_type": "code",
      "source": [
        "print(X_train.shape)\n",
        "print(X_test.shape)"
      ],
      "execution_count": 31,
      "outputs": [
        {
          "output_type": "stream",
          "text": [
            "(375, 4)\n",
            "(250, 4)\n"
          ],
          "name": "stdout"
        }
      ]
    },
    {
      "metadata": {
        "id": "xBe28hGKl3xH",
        "colab_type": "text"
      },
      "cell_type": "markdown",
      "source": [
        "## Building and Training our Decision Tree Model"
      ]
    },
    {
      "metadata": {
        "id": "caxbf3tRX0gd",
        "colab_type": "code",
        "colab": {}
      },
      "cell_type": "code",
      "source": [
        "from sklearn.tree import DecisionTreeClassifier"
      ],
      "execution_count": 0,
      "outputs": []
    },
    {
      "metadata": {
        "id": "nm8QvjDCl_5G",
        "colab_type": "text"
      },
      "cell_type": "markdown",
      "source": [
        "### *gini* index as criterion"
      ]
    },
    {
      "metadata": {
        "id": "jNgVk6EhX_Ch",
        "colab_type": "code",
        "colab": {}
      },
      "cell_type": "code",
      "source": [
        "giniDecisionTree = DecisionTreeClassifier(criterion='gini')"
      ],
      "execution_count": 0,
      "outputs": []
    },
    {
      "metadata": {
        "id": "uIsVm7ULYGwU",
        "colab_type": "code",
        "colab": {
          "base_uri": "https://localhost:8080/",
          "height": 119
        },
        "outputId": "f5223245-37ad-4d6e-e4f5-e018351c0b96"
      },
      "cell_type": "code",
      "source": [
        "giniDecisionTree.fit(X_train, y_train)"
      ],
      "execution_count": 35,
      "outputs": [
        {
          "output_type": "execute_result",
          "data": {
            "text/plain": [
              "DecisionTreeClassifier(class_weight=None, criterion='gini', max_depth=None,\n",
              "            max_features=None, max_leaf_nodes=None,\n",
              "            min_impurity_decrease=0.0, min_impurity_split=None,\n",
              "            min_samples_leaf=1, min_samples_split=2,\n",
              "            min_weight_fraction_leaf=0.0, presort=False, random_state=None,\n",
              "            splitter='best')"
            ]
          },
          "metadata": {
            "tags": []
          },
          "execution_count": 35
        }
      ]
    },
    {
      "metadata": {
        "id": "a_WkD-9bmIfg",
        "colab_type": "text"
      },
      "cell_type": "markdown",
      "source": [
        "### Predictions and Evaluation"
      ]
    },
    {
      "metadata": {
        "id": "q8xmgIDVYOVy",
        "colab_type": "code",
        "colab": {}
      },
      "cell_type": "code",
      "source": [
        "giniPred = giniDecisionTree.predict(X_test)"
      ],
      "execution_count": 0,
      "outputs": []
    },
    {
      "metadata": {
        "id": "bD0Gk7xOYTG-",
        "colab_type": "code",
        "colab": {}
      },
      "cell_type": "code",
      "source": [
        "from sklearn.metrics import accuracy_score, classification_report"
      ],
      "execution_count": 0,
      "outputs": []
    },
    {
      "metadata": {
        "id": "zmSpWULDYcbN",
        "colab_type": "code",
        "colab": {
          "base_uri": "https://localhost:8080/",
          "height": 34
        },
        "outputId": "2480290a-9152-4ef8-f1e0-25e9c756d63d"
      },
      "cell_type": "code",
      "source": [
        "print('Accuracy Score: ',accuracy_score(y_test, giniPred))"
      ],
      "execution_count": 61,
      "outputs": [
        {
          "output_type": "stream",
          "text": [
            "Accuracy Score:  0.748\n"
          ],
          "name": "stdout"
        }
      ]
    },
    {
      "metadata": {
        "id": "BAkNqD9vbWNe",
        "colab_type": "code",
        "colab": {
          "base_uri": "https://localhost:8080/",
          "height": 170
        },
        "outputId": "338661ca-8f06-433a-d7a8-d2831c42182c"
      },
      "cell_type": "code",
      "source": [
        "print('Classification Report')\n",
        "print(classification_report(y_test, giniPred))"
      ],
      "execution_count": 62,
      "outputs": [
        {
          "output_type": "stream",
          "text": [
            "Classification Report\n",
            "             precision    recall  f1-score   support\n",
            "\n",
            "          B       0.00      0.00      0.00        24\n",
            "          L       0.84      0.81      0.83       107\n",
            "          R       0.83      0.84      0.83       119\n",
            "\n",
            "avg / total       0.75      0.75      0.75       250\n",
            "\n"
          ],
          "name": "stdout"
        }
      ]
    },
    {
      "metadata": {
        "id": "hrqa9vOrm0G_",
        "colab_type": "text"
      },
      "cell_type": "markdown",
      "source": [
        "### *entropy* as criterion"
      ]
    },
    {
      "metadata": {
        "id": "cVKpW3UtYiT0",
        "colab_type": "code",
        "colab": {}
      },
      "cell_type": "code",
      "source": [
        "entropyDecisionTree = DecisionTreeClassifier(criterion='entropy')"
      ],
      "execution_count": 0,
      "outputs": []
    },
    {
      "metadata": {
        "id": "1LW4KstTYvyL",
        "colab_type": "code",
        "colab": {
          "base_uri": "https://localhost:8080/",
          "height": 119
        },
        "outputId": "df00ac96-9262-4875-fe0f-fdf298dd7652"
      },
      "cell_type": "code",
      "source": [
        "entropyDecisionTree.fit(X_train, y_train)"
      ],
      "execution_count": 40,
      "outputs": [
        {
          "output_type": "execute_result",
          "data": {
            "text/plain": [
              "DecisionTreeClassifier(class_weight=None, criterion='entropy', max_depth=None,\n",
              "            max_features=None, max_leaf_nodes=None,\n",
              "            min_impurity_decrease=0.0, min_impurity_split=None,\n",
              "            min_samples_leaf=1, min_samples_split=2,\n",
              "            min_weight_fraction_leaf=0.0, presort=False, random_state=None,\n",
              "            splitter='best')"
            ]
          },
          "metadata": {
            "tags": []
          },
          "execution_count": 40
        }
      ]
    },
    {
      "metadata": {
        "id": "zQw-QQQ4mX-L",
        "colab_type": "text"
      },
      "cell_type": "markdown",
      "source": [
        "### Predictions and Evaluation"
      ]
    },
    {
      "metadata": {
        "id": "_65yX4frYy_8",
        "colab_type": "code",
        "colab": {}
      },
      "cell_type": "code",
      "source": [
        "entropyPred = entropyDecisionTree.predict(X_test)"
      ],
      "execution_count": 0,
      "outputs": []
    },
    {
      "metadata": {
        "id": "D7zIVSfEY30f",
        "colab_type": "code",
        "colab": {
          "base_uri": "https://localhost:8080/",
          "height": 34
        },
        "outputId": "86aa4f2a-b30f-4981-ee53-6d0d99a7e728"
      },
      "cell_type": "code",
      "source": [
        "print('Accuracy Score: ',accuracy_score(y_test, entropyPred))"
      ],
      "execution_count": 63,
      "outputs": [
        {
          "output_type": "stream",
          "text": [
            "Accuracy Score:  0.748\n"
          ],
          "name": "stdout"
        }
      ]
    },
    {
      "metadata": {
        "id": "1sfqB4ikbisO",
        "colab_type": "code",
        "colab": {
          "base_uri": "https://localhost:8080/",
          "height": 153
        },
        "outputId": "dab54ed2-7ccb-46dd-bada-3a7fb8e344ed"
      },
      "cell_type": "code",
      "source": [
        "print(classification_report(y_test, entropyPred))"
      ],
      "execution_count": 54,
      "outputs": [
        {
          "output_type": "stream",
          "text": [
            "             precision    recall  f1-score   support\n",
            "\n",
            "          B       0.00      0.00      0.00        24\n",
            "          L       0.84      0.82      0.83       107\n",
            "          R       0.85      0.83      0.84       119\n",
            "\n",
            "avg / total       0.76      0.75      0.76       250\n",
            "\n"
          ],
          "name": "stdout"
        }
      ]
    },
    {
      "metadata": {
        "id": "zvneIsBlnBX3",
        "colab_type": "text"
      },
      "cell_type": "markdown",
      "source": [
        "## Using ensemble models\n",
        "\n",
        "# RandomForest Classifier"
      ]
    },
    {
      "metadata": {
        "id": "8RBCw25FY74f",
        "colab_type": "code",
        "colab": {}
      },
      "cell_type": "code",
      "source": [
        "from sklearn.ensemble import RandomForestClassifier"
      ],
      "execution_count": 0,
      "outputs": []
    },
    {
      "metadata": {
        "id": "2ZjAOiqAm5JW",
        "colab_type": "text"
      },
      "cell_type": "markdown",
      "source": [
        "### *gini* index as criterion"
      ]
    },
    {
      "metadata": {
        "id": "E2Vq_gEXZVkq",
        "colab_type": "code",
        "colab": {}
      },
      "cell_type": "code",
      "source": [
        "giniForest = RandomForestClassifier(criterion='gini')"
      ],
      "execution_count": 0,
      "outputs": []
    },
    {
      "metadata": {
        "id": "WAdYtRktZbiz",
        "colab_type": "code",
        "colab": {
          "base_uri": "https://localhost:8080/",
          "height": 136
        },
        "outputId": "a813c367-eeb5-4dd5-9c7d-b65b45db8e02"
      },
      "cell_type": "code",
      "source": [
        "giniForest.fit(X_train, y_train)"
      ],
      "execution_count": 45,
      "outputs": [
        {
          "output_type": "execute_result",
          "data": {
            "text/plain": [
              "RandomForestClassifier(bootstrap=True, class_weight=None, criterion='gini',\n",
              "            max_depth=None, max_features='auto', max_leaf_nodes=None,\n",
              "            min_impurity_decrease=0.0, min_impurity_split=None,\n",
              "            min_samples_leaf=1, min_samples_split=2,\n",
              "            min_weight_fraction_leaf=0.0, n_estimators=10, n_jobs=1,\n",
              "            oob_score=False, random_state=None, verbose=0,\n",
              "            warm_start=False)"
            ]
          },
          "metadata": {
            "tags": []
          },
          "execution_count": 45
        }
      ]
    },
    {
      "metadata": {
        "id": "wlOX4uhQmZuI",
        "colab_type": "text"
      },
      "cell_type": "markdown",
      "source": [
        "### Predictions and Evaluation"
      ]
    },
    {
      "metadata": {
        "id": "v_VmkD_QZgad",
        "colab_type": "code",
        "colab": {}
      },
      "cell_type": "code",
      "source": [
        "giniForestPred = giniForest.predict(X_test)"
      ],
      "execution_count": 0,
      "outputs": []
    },
    {
      "metadata": {
        "id": "ZwaUozHlZlgO",
        "colab_type": "code",
        "colab": {
          "base_uri": "https://localhost:8080/",
          "height": 34
        },
        "outputId": "6674ecfb-d2c0-411d-d2f4-9ce071f9e21a"
      },
      "cell_type": "code",
      "source": [
        "print('Accuracy Score: ',accuracy_score(y_test, giniForestPred))"
      ],
      "execution_count": 64,
      "outputs": [
        {
          "output_type": "stream",
          "text": [
            "Accuracy Score:  0.8\n"
          ],
          "name": "stdout"
        }
      ]
    },
    {
      "metadata": {
        "id": "VCh8z1SqbnkE",
        "colab_type": "code",
        "colab": {
          "base_uri": "https://localhost:8080/",
          "height": 153
        },
        "outputId": "add31717-3690-4277-fd29-545e0a293ecb"
      },
      "cell_type": "code",
      "source": [
        "print(classification_report(y_test, giniForestPred))"
      ],
      "execution_count": 55,
      "outputs": [
        {
          "output_type": "stream",
          "text": [
            "             precision    recall  f1-score   support\n",
            "\n",
            "          B       0.08      0.04      0.05        24\n",
            "          L       0.77      0.90      0.83       107\n",
            "          R       0.92      0.87      0.89       119\n",
            "\n",
            "avg / total       0.77      0.80      0.78       250\n",
            "\n"
          ],
          "name": "stdout"
        }
      ]
    },
    {
      "metadata": {
        "id": "71doeoDNm8CY",
        "colab_type": "text"
      },
      "cell_type": "markdown",
      "source": [
        "### *entropy* as criterion"
      ]
    },
    {
      "metadata": {
        "id": "E8pQ6SxQZp6f",
        "colab_type": "code",
        "colab": {}
      },
      "cell_type": "code",
      "source": [
        "entropyForest = RandomForestClassifier(criterion='entropy')"
      ],
      "execution_count": 0,
      "outputs": []
    },
    {
      "metadata": {
        "id": "q9veKTbJZxJG",
        "colab_type": "code",
        "colab": {
          "base_uri": "https://localhost:8080/",
          "height": 136
        },
        "outputId": "b85d1965-ca91-4a72-8519-015b6213c0fa"
      },
      "cell_type": "code",
      "source": [
        "entropyForest.fit(X_train, y_train)"
      ],
      "execution_count": 49,
      "outputs": [
        {
          "output_type": "execute_result",
          "data": {
            "text/plain": [
              "RandomForestClassifier(bootstrap=True, class_weight=None, criterion='entropy',\n",
              "            max_depth=None, max_features='auto', max_leaf_nodes=None,\n",
              "            min_impurity_decrease=0.0, min_impurity_split=None,\n",
              "            min_samples_leaf=1, min_samples_split=2,\n",
              "            min_weight_fraction_leaf=0.0, n_estimators=10, n_jobs=1,\n",
              "            oob_score=False, random_state=None, verbose=0,\n",
              "            warm_start=False)"
            ]
          },
          "metadata": {
            "tags": []
          },
          "execution_count": 49
        }
      ]
    },
    {
      "metadata": {
        "id": "10wFeFfRmbUS",
        "colab_type": "text"
      },
      "cell_type": "markdown",
      "source": [
        "### Predictions and Evaluation"
      ]
    },
    {
      "metadata": {
        "id": "3ff-E_aAZ0BC",
        "colab_type": "code",
        "colab": {}
      },
      "cell_type": "code",
      "source": [
        "entropyForestPred = entropyForest.predict(X_test)"
      ],
      "execution_count": 0,
      "outputs": []
    },
    {
      "metadata": {
        "id": "8CWuJ26bZ4Zd",
        "colab_type": "code",
        "colab": {
          "base_uri": "https://localhost:8080/",
          "height": 34
        },
        "outputId": "94bded2d-d8e8-43f6-8057-f8b1cfc5d847"
      },
      "cell_type": "code",
      "source": [
        "print('Accuracy Score: ',accuracy_score(y_test, entropyForestPred))"
      ],
      "execution_count": 65,
      "outputs": [
        {
          "output_type": "stream",
          "text": [
            "Accuracy Score:  0.772\n"
          ],
          "name": "stdout"
        }
      ]
    },
    {
      "metadata": {
        "id": "MBAMkCPiZ8W9",
        "colab_type": "code",
        "colab": {
          "base_uri": "https://localhost:8080/",
          "height": 153
        },
        "outputId": "89ce7904-636f-4ec1-f771-fb13b22742a0"
      },
      "cell_type": "code",
      "source": [
        "print(classification_report(y_test, entropyForestPred))"
      ],
      "execution_count": 56,
      "outputs": [
        {
          "output_type": "stream",
          "text": [
            "             precision    recall  f1-score   support\n",
            "\n",
            "          B       0.05      0.04      0.04        24\n",
            "          L       0.82      0.85      0.83       107\n",
            "          R       0.86      0.85      0.85       119\n",
            "\n",
            "avg / total       0.76      0.77      0.77       250\n",
            "\n"
          ],
          "name": "stdout"
        }
      ]
    },
    {
      "metadata": {
        "id": "d-vsn47XoVAh",
        "colab_type": "text"
      },
      "cell_type": "markdown",
      "source": [
        "# ExtraTree Classifier"
      ]
    },
    {
      "metadata": {
        "id": "TYDc6QWEbuE6",
        "colab_type": "code",
        "colab": {}
      },
      "cell_type": "code",
      "source": [
        "from sklearn.ensemble import ExtraTreesClassifier"
      ],
      "execution_count": 0,
      "outputs": []
    },
    {
      "metadata": {
        "id": "_QMh5qYcohcX",
        "colab_type": "text"
      },
      "cell_type": "markdown",
      "source": [
        "### *gini* index as criterion"
      ]
    },
    {
      "metadata": {
        "id": "6UCVJiLtofH4",
        "colab_type": "code",
        "colab": {}
      },
      "cell_type": "code",
      "source": [
        "giniExtra = ExtraTreesClassifier(criterion='gini')"
      ],
      "execution_count": 0,
      "outputs": []
    },
    {
      "metadata": {
        "id": "uHWE9fEuoksO",
        "colab_type": "code",
        "colab": {
          "base_uri": "https://localhost:8080/",
          "height": 119
        },
        "outputId": "72d38191-4a70-43d4-9b17-daff52d0d7fe"
      },
      "cell_type": "code",
      "source": [
        "giniExtra.fit(X_train, y_train)"
      ],
      "execution_count": 68,
      "outputs": [
        {
          "output_type": "execute_result",
          "data": {
            "text/plain": [
              "ExtraTreesClassifier(bootstrap=False, class_weight=None, criterion='gini',\n",
              "           max_depth=None, max_features='auto', max_leaf_nodes=None,\n",
              "           min_impurity_decrease=0.0, min_impurity_split=None,\n",
              "           min_samples_leaf=1, min_samples_split=2,\n",
              "           min_weight_fraction_leaf=0.0, n_estimators=10, n_jobs=1,\n",
              "           oob_score=False, random_state=None, verbose=0, warm_start=False)"
            ]
          },
          "metadata": {
            "tags": []
          },
          "execution_count": 68
        }
      ]
    },
    {
      "metadata": {
        "id": "9JyAakBOozpY",
        "colab_type": "text"
      },
      "cell_type": "markdown",
      "source": [
        "### Predictions and Evaluation"
      ]
    },
    {
      "metadata": {
        "id": "6oGTx4kIopVC",
        "colab_type": "code",
        "colab": {}
      },
      "cell_type": "code",
      "source": [
        "giniExtraPred = giniExtra.predict(X_test)"
      ],
      "execution_count": 0,
      "outputs": []
    },
    {
      "metadata": {
        "id": "i1zX07QyowBQ",
        "colab_type": "code",
        "colab": {
          "base_uri": "https://localhost:8080/",
          "height": 34
        },
        "outputId": "3e805128-f8a8-4975-dcb3-731f86844ac0"
      },
      "cell_type": "code",
      "source": [
        "print('Accuracy Score: ',accuracy_score(y_test, giniExtraPred))"
      ],
      "execution_count": 70,
      "outputs": [
        {
          "output_type": "stream",
          "text": [
            "Accuracy Score:  0.808\n"
          ],
          "name": "stdout"
        }
      ]
    },
    {
      "metadata": {
        "id": "kGncnzQOo4y6",
        "colab_type": "code",
        "colab": {
          "base_uri": "https://localhost:8080/",
          "height": 153
        },
        "outputId": "582c1692-0b26-4858-a2f5-6e294acb8767"
      },
      "cell_type": "code",
      "source": [
        "print(classification_report(y_test, giniExtraPred))"
      ],
      "execution_count": 71,
      "outputs": [
        {
          "output_type": "stream",
          "text": [
            "             precision    recall  f1-score   support\n",
            "\n",
            "          B       0.00      0.00      0.00        24\n",
            "          L       0.82      0.88      0.85       107\n",
            "          R       0.89      0.91      0.90       119\n",
            "\n",
            "avg / total       0.77      0.81      0.79       250\n",
            "\n"
          ],
          "name": "stdout"
        }
      ]
    },
    {
      "metadata": {
        "id": "dKXY73IOo_JP",
        "colab_type": "text"
      },
      "cell_type": "markdown",
      "source": [
        "### *entropy* as criterion"
      ]
    },
    {
      "metadata": {
        "id": "NTgKTqMTo9Z1",
        "colab_type": "code",
        "colab": {}
      },
      "cell_type": "code",
      "source": [
        "entropyExtra = ExtraTreesClassifier(criterion='entropy')"
      ],
      "execution_count": 0,
      "outputs": []
    },
    {
      "metadata": {
        "id": "uDk-EvstpKNK",
        "colab_type": "code",
        "colab": {
          "base_uri": "https://localhost:8080/",
          "height": 119
        },
        "outputId": "75be7729-a75b-4c86-fd06-95054264e321"
      },
      "cell_type": "code",
      "source": [
        "entropyExtra.fit(X_train, y_train)"
      ],
      "execution_count": 73,
      "outputs": [
        {
          "output_type": "execute_result",
          "data": {
            "text/plain": [
              "ExtraTreesClassifier(bootstrap=False, class_weight=None, criterion='entropy',\n",
              "           max_depth=None, max_features='auto', max_leaf_nodes=None,\n",
              "           min_impurity_decrease=0.0, min_impurity_split=None,\n",
              "           min_samples_leaf=1, min_samples_split=2,\n",
              "           min_weight_fraction_leaf=0.0, n_estimators=10, n_jobs=1,\n",
              "           oob_score=False, random_state=None, verbose=0, warm_start=False)"
            ]
          },
          "metadata": {
            "tags": []
          },
          "execution_count": 73
        }
      ]
    },
    {
      "metadata": {
        "id": "zSdPUZ7hpPzn",
        "colab_type": "text"
      },
      "cell_type": "markdown",
      "source": [
        "### Predictions and Evaluation"
      ]
    },
    {
      "metadata": {
        "id": "zjBaOhn2pOdU",
        "colab_type": "code",
        "colab": {}
      },
      "cell_type": "code",
      "source": [
        "entropyExtraPred = entropyExtra.predict(X_test)"
      ],
      "execution_count": 0,
      "outputs": []
    },
    {
      "metadata": {
        "id": "Ci-7dDC-pX6j",
        "colab_type": "code",
        "colab": {
          "base_uri": "https://localhost:8080/",
          "height": 34
        },
        "outputId": "26cd2d27-cbda-4bdd-c0f9-20c2eb941bbd"
      },
      "cell_type": "code",
      "source": [
        "print('Accuracy Score: ',accuracy_score(y_test, entropyExtraPred))"
      ],
      "execution_count": 75,
      "outputs": [
        {
          "output_type": "stream",
          "text": [
            "Accuracy Score:  0.78\n"
          ],
          "name": "stdout"
        }
      ]
    },
    {
      "metadata": {
        "id": "6c9y59P_pcTD",
        "colab_type": "code",
        "colab": {
          "base_uri": "https://localhost:8080/",
          "height": 153
        },
        "outputId": "544fac52-f276-4107-9077-04531a27bd69"
      },
      "cell_type": "code",
      "source": [
        "print(classification_report(y_test, entropyExtraPred))"
      ],
      "execution_count": 76,
      "outputs": [
        {
          "output_type": "stream",
          "text": [
            "             precision    recall  f1-score   support\n",
            "\n",
            "          B       0.00      0.00      0.00        24\n",
            "          L       0.78      0.88      0.83       107\n",
            "          R       0.89      0.85      0.87       119\n",
            "\n",
            "avg / total       0.76      0.78      0.77       250\n",
            "\n"
          ],
          "name": "stdout"
        }
      ]
    },
    {
      "metadata": {
        "id": "32Npl08Hr-6t",
        "colab_type": "text"
      },
      "cell_type": "markdown",
      "source": [
        "## CONCLUSION\n",
        "\n",
        "As we can see from above models that we used to classify, the **Extra Tree Classifier** with **gini** splitting criterion and **Random Forest Classifier** also with **gini** splitting criterion did much better as compared to other models with accuracy_score of 0.808 and 0.8 respectively."
      ]
    },
    {
      "metadata": {
        "id": "NuBfZ6HwphKJ",
        "colab_type": "code",
        "colab": {}
      },
      "cell_type": "code",
      "source": [
        ""
      ],
      "execution_count": 0,
      "outputs": []
    }
  ]
}